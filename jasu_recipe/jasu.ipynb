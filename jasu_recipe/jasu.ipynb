{
 "cells": [
  {
   "cell_type": "code",
   "execution_count": null,
   "metadata": {},
   "outputs": [],
   "source": [
    "# レシートの食材名(1つ) → 一般化された食材名リスト\n",
    "def generalize_food(my_food_name):\n",
    "    with open(\"genre_name_list.txt\") as general_food_list:\n",
    "        # 内包表記\n",
    "        result = {general_food_name.strip()\n",
    "                  for general_food_name in general_food_list\n",
    "                  if general_food_name.strip() in my_food_name}\n",
    "        return result\n",
    "\n",
    "# 一般化された食材(１つ) → そのid\n",
    "def get_genre_id(target_food):\n",
    "    with open(\"genre_id.txt\") as id_food_text:\n",
    "        for id_food in id_food_text:\n",
    "            id, food = id_food.split()\n",
    "            if food == target_food:\n",
    "                return id"
   ]
  }
 ],
 "metadata": {
  "kernelspec": {
   "display_name": "Python 3",
   "language": "python",
   "name": "python3"
  },
  "language_info": {
   "codemirror_mode": {
    "name": "ipython",
    "version": 3
   },
   "file_extension": ".py",
   "mimetype": "text/x-python",
   "name": "python",
   "nbconvert_exporter": "python",
   "pygments_lexer": "ipython3",
   "version": "3.6.6"
  }
 },
 "nbformat": 4,
 "nbformat_minor": 2
}
