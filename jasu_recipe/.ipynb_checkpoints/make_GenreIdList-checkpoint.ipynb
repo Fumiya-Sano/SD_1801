{
 "cells": [
  {
   "cell_type": "code",
   "execution_count": 10,
   "metadata": {},
   "outputs": [],
   "source": [
    "from itertools import islice"
   ]
  },
  {
   "cell_type": "code",
   "execution_count": 12,
   "metadata": {},
   "outputs": [
    {
     "name": "stdout",
     "output_type": "stream",
     "text": [
      "30 人気メニュー\n",
      "\n",
      "31 定番の肉料理\n",
      "\n",
      "32 定番の魚料理\n",
      "\n"
     ]
    }
   ],
   "source": [
    "with open('genre_id.txt') as f:\n",
    "    for line in islice(f, 3):\n",
    "        print(line)"
   ]
  },
  {
   "cell_type": "code",
   "execution_count": 7,
   "metadata": {},
   "outputs": [],
   "source": [
    "# test_w = open('genre_name_list.txt','w')\n",
    "# for i in name.split(\"\\n\"):\n",
    "#     test_w.write(i.split()[1])\n",
    "#     test_w.write('\\n')"
   ]
  },
  {
   "cell_type": "code",
   "execution_count": 3,
   "metadata": {},
   "outputs": [
    {
     "name": "stdout",
     "output_type": "stream",
     "text": [
      "白菜\n",
      "\n",
      "キムチ\n",
      "\n",
      "白菜\n",
      "\n",
      "キムチ\n",
      "\n"
     ]
    }
   ],
   "source": [
    "food_name = '吉野屋白菜キムチ'\n",
    "with open(\"genre_name_list.txt\") as f:\n",
    "    for line in f:\n",
    "        if line.strip() in food_name:\n",
    "            print(line)"
   ]
  },
  {
   "cell_type": "code",
   "execution_count": null,
   "metadata": {},
   "outputs": [],
   "source": []
  }
 ],
 "metadata": {
  "kernelspec": {
   "display_name": "Python 3",
   "language": "python",
   "name": "python3"
  },
  "language_info": {
   "codemirror_mode": {
    "name": "ipython",
    "version": 3
   },
   "file_extension": ".py",
   "mimetype": "text/x-python",
   "name": "python",
   "nbconvert_exporter": "python",
   "pygments_lexer": "ipython3",
   "version": "3.6.6"
  }
 },
 "nbformat": 4,
 "nbformat_minor": 2
}
