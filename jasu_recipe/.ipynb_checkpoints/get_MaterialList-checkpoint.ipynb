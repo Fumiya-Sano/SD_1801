{
 "cells": [
  {
   "cell_type": "code",
   "execution_count": 67,
   "metadata": {},
   "outputs": [
    {
     "name": "stdout",
     "output_type": "stream",
     "text": [
      "ロースハム\n",
      "生ハム\n",
      "スライスチーズ(溶けないタイプ)\n",
      "卵\n",
      "水\n",
      "小麦粉\n",
      "塩\n",
      "パン粉\n",
      "鶏肉\n",
      "or\n",
      "むね）\n",
      "生姜のすりおろし\n",
      "酒\n",
      "塩\n",
      "こしょう\n",
      "＜サクサク衣＞の材料\n",
      "薄力粉\n",
      "片栗粉\n",
      "冷水\n",
      "卵\n",
      "酒\n",
      "白だし\n",
      "豚ひき肉\n",
      "にら\n",
      "きゃべつ\n",
      "長ねぎ\n",
      "にんにく\n",
      "しょうが(にんにくと同量)\n",
      "ごま油\n",
      "酒\n",
      "醤油\n",
      "砂糖\n",
      "鶏がらスープのもと\n",
      "塩こしょう\n",
      "餃子の皮\n",
      "片栗粉\n",
      "豚ロース薄切り肉(しゃぶしゃぶ用)\n",
      "タマネギ(小)\n",
      "小麦粉\n",
      "おろししょうが\n",
      "醤油\n",
      "酒\n",
      "みりん\n",
      "砂糖\n",
      "マヨネーズ\n",
      "サラダ油\n"
     ]
    }
   ],
   "source": [
    "# -＊- coding: utf-8 -＊-\n",
    "\n",
    "import requests\n",
    "from pprint import pprint\n",
    "\n",
    "# lack_list = set()\n",
    "# idlist_all = open('idlist_all.txt','r')\n",
    "# line_id = idlist_all.readline()\n",
    "\n",
    "url = 'https://app.rakuten.co.jp/services/api/Recipe/CategoryRanking/20170426?'\n",
    "\n",
    "# for i in range(2):\n",
    "#     print(line_id)\n",
    "#     line_id = idlist_all.readline()\n",
    "\n",
    "def get_ingredient(id):\n",
    "    payload = {\n",
    "       'applicationId': [1098435242683481258],\n",
    "       'categoryId': id,\n",
    "       }\n",
    "    r = requests.get(url, params=payload)\n",
    "    resp = r.json()\n",
    "    for recipe in resp['result']:\n",
    "        for food in recipe[\"recipeMaterial\"]:\n",
    "            yield food.strip(\"●☆★\").replace('(', ' ').replace('（', ' ').split(\" \")[0]\n",
    "        \n",
    "\n",
    "for i in get_ingredient(30):\n",
    "    print(i)"
   ]
  },
  {
   "cell_type": "code",
   "execution_count": null,
   "metadata": {},
   "outputs": [],
   "source": []
  }
 ],
 "metadata": {
  "kernelspec": {
   "display_name": "Python 3",
   "language": "python",
   "name": "python3"
  },
  "language_info": {
   "codemirror_mode": {
    "name": "ipython",
    "version": 3
   },
   "file_extension": ".py",
   "mimetype": "text/x-python",
   "name": "python",
   "nbconvert_exporter": "python",
   "pygments_lexer": "ipython3",
   "version": "3.6.6"
  }
 },
 "nbformat": 4,
 "nbformat_minor": 2
}
