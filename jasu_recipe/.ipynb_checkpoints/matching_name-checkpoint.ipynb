{
 "cells": [
  {
   "cell_type": "code",
   "execution_count": 6,
   "metadata": {},
   "outputs": [
    {
     "name": "stdin",
     "output_type": "stream",
     "text": [
      " ごまさば\n"
     ]
    },
    {
     "name": "stdout",
     "output_type": "stream",
     "text": [
      "['さば']\n"
     ]
    }
   ],
   "source": [
    "#food_name = '吉野屋白菜キムチ'\n",
    "food_name = str(input())\n",
    "food_namelist = []\n",
    "with open(\"genre_name_list.txt\") as genre_name_list:\n",
    "    for line in genre_name_list:\n",
    "        if line.strip() in food_name:\n",
    "            food_namelist.append(line.strip())\n",
    "    #重複削除\n",
    "    food_namelist = list(set(food_namelist))\n",
    "    print(food_namelist)"
   ]
  },
  {
   "cell_type": "code",
   "execution_count": 7,
   "metadata": {},
   "outputs": [
    {
     "name": "stdout",
     "output_type": "stream",
     "text": [
      "['11-72', '11-72-322']\n"
     ]
    }
   ],
   "source": [
    "#matching genre_id\n",
    "\n",
    "#food_namelist2 = ['キムチ', '白菜']\n",
    "#food_namelist2 = input()\n",
    "genre_idlist2 = []\n",
    "with open(\"genre_id.txt\") as g:\n",
    "    #name_list2から変更\n",
    "    for one_food in food_namelist:\n",
    "        for line2 in g:\n",
    "            test = line2.split()\n",
    "            if test[1] in one_food:\n",
    "                genre_idlist2.append(test[0])\n",
    "print(genre_idlist2)"
   ]
  },
  {
   "cell_type": "code",
   "execution_count": null,
   "metadata": {},
   "outputs": [],
   "source": []
  },
  {
   "cell_type": "code",
   "execution_count": null,
   "metadata": {},
   "outputs": [],
   "source": []
  }
 ],
 "metadata": {
  "kernelspec": {
   "display_name": "Python 3",
   "language": "python",
   "name": "python3"
  },
  "language_info": {
   "codemirror_mode": {
    "name": "ipython",
    "version": 3
   },
   "file_extension": ".py",
   "mimetype": "text/x-python",
   "name": "python",
   "nbconvert_exporter": "python",
   "pygments_lexer": "ipython3",
   "version": "3.6.6"
  }
 },
 "nbformat": 4,
 "nbformat_minor": 2
}
