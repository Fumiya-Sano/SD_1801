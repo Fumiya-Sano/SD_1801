{
 "cells": [
  {
   "cell_type": "code",
   "execution_count": 1,
   "metadata": {},
   "outputs": [],
   "source": [
    "from itertools import islice"
   ]
  },
  {
   "cell_type": "code",
   "execution_count": 25,
   "metadata": {},
   "outputs": [],
   "source": [
    "with open('genre_id.txt') as f:\n",
    "    id_all = []\n",
    "    for line in islice(f, 2000):\n",
    "#         print(line.split()[0])\n",
    "        id_all.append(line.split()[0])\n",
    "    #print(id_all)"
   ]
  },
  {
   "cell_type": "code",
   "execution_count": 24,
   "metadata": {},
   "outputs": [],
   "source": [
    "list_w = open('idlist_all.txt','w')\n",
    "for i in id_all:\n",
    "#     print(i)\n",
    "    list_w.write(i)\n",
    "    list_w.write('\\n')"
   ]
  },
  {
   "cell_type": "code",
   "execution_count": 3,
   "metadata": {},
   "outputs": [
    {
     "name": "stdout",
     "output_type": "stream",
     "text": [
      "白菜\n",
      "\n",
      "キムチ\n",
      "\n",
      "白菜\n",
      "\n",
      "キムチ\n",
      "\n"
     ]
    }
   ],
   "source": [
    "food_name = '吉野屋白菜キムチ'\n",
    "with open(\"genre_name_list.txt\") as f:\n",
    "    for line in f:\n",
    "        if line.strip() in food_name:\n",
    "            print(line)"
   ]
  },
  {
   "cell_type": "code",
   "execution_count": null,
   "metadata": {},
   "outputs": [],
   "source": [
    "with open('genre_id.txt') as f2:\n",
    "    name_all = []\n",
    "    for line in islice(f2, 2000):\n",
    "        name_all.append(line.split()[1])"
   ]
  },
  {
   "cell_type": "code",
   "execution_count": null,
   "metadata": {},
   "outputs": [],
   "source": [
    "list2_w = open('genre_name_list.txt','w')\n",
    "for i in name_all:\n",
    "    list2_w.write(i)\n",
    "    list2_w.write('\\n')"
   ]
  }
 ],
 "metadata": {
  "kernelspec": {
   "display_name": "Python 3",
   "language": "python",
   "name": "python3"
  },
  "language_info": {
   "codemirror_mode": {
    "name": "ipython",
    "version": 3
   },
   "file_extension": ".py",
   "mimetype": "text/x-python",
   "name": "python",
   "nbconvert_exporter": "python",
   "pygments_lexer": "ipython3",
   "version": "3.6.6"
  }
 },
 "nbformat": 4,
 "nbformat_minor": 2
}
