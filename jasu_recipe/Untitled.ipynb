{
 "cells": [
  {
   "cell_type": "code",
   "execution_count": 12,
   "metadata": {},
   "outputs": [
    {
     "name": "stdout",
     "output_type": "stream",
     "text": [
      "----------------------------------------\n",
      "{1: {'recipe': [{'URL': ['https://recipe.rakuten.co.jp/recipe/1200002403/']},\n",
      "                {'title': ['1分で！うまうま胡麻キュウリ']},\n",
      "                {'image': 'https://image.space.rakuten.co.jp/d/strg/ctrl/3/34d4ce95b8674c8fb6c8f08b5115464a9f180c31.17.2.3.2.jpg'},\n",
      "                {'indication': '5分以内'},\n",
      "                {'cost': '100円以下'}]},\n",
      " 2: {'recipe': [{'URL': ['https://recipe.rakuten.co.jp/recipe/1180006148/']},\n",
      "                {'title': ['ささみときゅうりの中華風酢の物']},\n",
      "                {'image': 'https://image.space.rakuten.co.jp/d/strg/ctrl/3/eb6820a8c1b7035022ebbd7cd621ece8221a65e8.97.2.3.2.jpg'},\n",
      "                {'indication': '約15分'},\n",
      "                {'cost': '100円以下'}]},\n",
      " 3: {'recipe': [{'URL': ['https://recipe.rakuten.co.jp/recipe/1460004575/']},\n",
      "                {'title': ['家計に嬉しい！もやしときゅうりの中華風']},\n",
      "                {'image': 'https://image.space.rakuten.co.jp/d/strg/ctrl/3/f562f62c62269fe5ed8d152425343adabc86452a.50.2.3.2.jpg'},\n",
      "                {'indication': '約10分'},\n",
      "                {'cost': '300円前後'}]},\n",
      " 4: {'recipe': [{'URL': ['https://recipe.rakuten.co.jp/recipe/1810001909/']},\n",
      "                {'title': ['簡単美味しい♪きゅうりもみ']},\n",
      "                {'image': 'https://image.space.rakuten.co.jp/d/strg/ctrl/3/69a17c98c2d64f95dbba1d4c25f82747606d2284.65.2.3.2.jpg'},\n",
      "                {'indication': '5分以内'},\n",
      "                {'cost': '100円以下'}]}}\n",
      "----------------------------------------\n"
     ]
    }
   ],
   "source": [
    "import requests\n",
    "from pprint import pprint\n",
    "\n",
    "# #import jasu\n",
    "\n",
    "# #my_food_name = '吉野屋白菜キムチ'\n",
    "# my_food_name = str(input())\n",
    "\n",
    "# general_food_list = generalize_food(my_food_name)\n",
    "# ids = [get_genre_id(general_food) \n",
    "#        for general_food in general_food_list]\n",
    "\n",
    "\n",
    "url = 'https://app.rakuten.co.jp/services/api/Recipe/CategoryRanking/20170426?'\n",
    " \n",
    "payload = {\n",
    "    'applicationId': [1098435242683481258],\n",
    "    'categoryId': '12-450',\n",
    "    }\n",
    " \n",
    "r = requests.get(url, params=payload)\n",
    " \n",
    "resp = r.json()\n",
    "print ('-'*40)\n",
    " \n",
    "recipe_keys = [1,2,3,4]\n",
    "recipe_values = [{\"recipe\":[{\"URL\":[recipe[\"recipeUrl\"]]},{\"title\":[recipe[\"recipeTitle\"]]},{\"image\":recipe[\"foodImageUrl\"]},{\"indication\":recipe[\"recipeIndication\"]},{\"cost\":recipe[\"recipeCost\"]}]} for recipe in resp['result']]\n",
    "dic = dict(zip(recipe_keys,recipe_values))\n",
    "pprint(dic)\n",
    "\n",
    "print ('-'*40)"
   ]
  },
  {
   "cell_type": "code",
   "execution_count": 5,
   "metadata": {},
   "outputs": [],
   "source": [
    "# レシートの食材名(1つ) → 一般化された食材名リスト\n",
    "def generalize_food(my_food_name):\n",
    "    with open(\"genre_name_list.txt\") as general_food_list:\n",
    "        # 内包表記\n",
    "        result = {general_food_name.strip()\n",
    "                  for general_food_name in general_food_list\n",
    "                  if general_food_name.strip() in my_food_name}\n",
    "        return result\n",
    "\n",
    "# 一般化された食材(１つ) → そのid\n",
    "def get_genre_id(target_food):\n",
    "    with open(\"genre_id.txt\") as id_food_text:\n",
    "        for id_food in id_food_text:\n",
    "            id, food = id_food.split()\n",
    "            if food == target_food:\n",
    "                return id"
   ]
  },
  {
   "cell_type": "code",
   "execution_count": 9,
   "metadata": {},
   "outputs": [
    {
     "name": "stdout",
     "output_type": "stream",
     "text": [
      "{'さば'}\n"
     ]
    }
   ],
   "source": [
    "print(generalize_food(\"ごまさば\"))"
   ]
  }
 ],
 "metadata": {
  "kernelspec": {
   "display_name": "Python 3",
   "language": "python",
   "name": "python3"
  },
  "language_info": {
   "codemirror_mode": {
    "name": "ipython",
    "version": 3
   },
   "file_extension": ".py",
   "mimetype": "text/x-python",
   "name": "python",
   "nbconvert_exporter": "python",
   "pygments_lexer": "ipython3",
   "version": "3.6.6"
  }
 },
 "nbformat": 4,
 "nbformat_minor": 2
}
